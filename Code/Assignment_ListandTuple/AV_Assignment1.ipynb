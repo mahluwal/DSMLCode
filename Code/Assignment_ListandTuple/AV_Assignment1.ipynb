{
 "cells": [
  {
   "cell_type": "markdown",
   "metadata": {},
   "source": [
    "●🙇 Who scored the highest marks in the subject B?\n",
    "●🙇 What is the average marks scored in the subject C?\n",
    "●🙇 Who scored the highest percentage of marks?\n",
    "●🙇 If considered only top-4 subjects of a candidate, then who scored the highestpercentage of marks?\n"
   ]
  },
  {
   "cell_type": "code",
   "execution_count": 10,
   "metadata": {},
   "outputs": [
    {
     "name": "stdout",
     "output_type": "stream",
     "text": [
      "82 Gyan 28.0 Ankit Ankit\n"
     ]
    }
   ],
   "source": [
    "# student marks\n",
    "student_marks=[\n",
    "                ['Name', ['A','B','C','D','E']],\n",
    "                ['Ankit',[41,34,45,55,63]], \n",
    "                ['Aravind',[42,23,34,44,53]],\n",
    "                ['Lakshay',[32,23,13,54,67]],\n",
    "                ['Gyan',[23,82,23,63,34]],\n",
    "                ['Pranav',[21,23,25,56,56]]\n",
    "]\n",
    "max_marks_B=0\n",
    "max_marks_B_student=''\n",
    "average_C=0\n",
    "highest_percentage=0\n",
    "highest_percentage_student=''\n",
    "highest_percentage_top4=0\n",
    "highest_percentage_top4_student=0\n",
    "for (i) in range(len(student_marks)):\n",
    "    if i==0:\n",
    "        continue\n",
    "    else:\n",
    "        gradelist=student_marks[i][1]\n",
    "        gradelistsum=sum(gradelist)\n",
    "        gradelistsumtop4=gradelistsum-min(gradelist)\n",
    "        \n",
    "        if gradelistsum > highest_percentage:\n",
    "            highest_percentage=gradelistsum\n",
    "            highest_percentage_student=student_marks[i][0]\n",
    "            \n",
    "        if gradelistsumtop4 > highest_percentage_top4:\n",
    "            highest_percentage_top4=gradelistsumtop4\n",
    "            highest_percentage_top4_student=student_marks[i][0]\n",
    "        if student_marks[i][1][1] > max_marks_B:\n",
    "            max_marks_B=student_marks[i][1][1]\n",
    "            max_marks_B_student=student_marks[i][0]\n",
    "        \n",
    "    average_C=average_C+student_marks[i][1][2]\n",
    "average_C=average_C/(len(student_marks)-1)\n",
    "print(max_marks_B, max_marks_B_student,average_C, highest_percentage_student, highest_percentage_top4_student)"
   ]
  },
  {
   "cell_type": "code",
   "execution_count": null,
   "metadata": {},
   "outputs": [],
   "source": []
  }
 ],
 "metadata": {
  "kernelspec": {
   "display_name": "Python 3",
   "language": "python",
   "name": "python3"
  },
  "language_info": {
   "codemirror_mode": {
    "name": "ipython",
    "version": 3
   },
   "file_extension": ".py",
   "mimetype": "text/x-python",
   "name": "python",
   "nbconvert_exporter": "python",
   "pygments_lexer": "ipython3",
   "version": "3.8.5"
  }
 },
 "nbformat": 4,
 "nbformat_minor": 4
}
